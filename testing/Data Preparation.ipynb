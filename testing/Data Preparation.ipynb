{
 "cells": [
  {
   "cell_type": "code",
   "execution_count": 11,
   "metadata": {
    "collapsed": true
   },
   "outputs": [],
   "source": [
    "import os\n",
    "import json\n",
    "import pandas as pd\n",
    "from pandas2arff import pandas2arff\n",
    "from sklearn.preprocessing import LabelEncoder\n",
    "\n",
    "def printDF(title, df):\n",
    "    print \"##############################\\n    \"+title+\"    \\n##############################\\n\"\n",
    "    print \"## Shape: ##\"\n",
    "    print df.shape\n",
    "    print \"\\n## Missing Values per Column: ##\"\n",
    "    print df.isnull().sum()\n",
    "    # print \"\\n## Show data: ##\"\n",
    "    # print df[0:12]\n",
    "    print \"############################## \\n\\n\"\n",
    "\n",
    "def createDF(file_name):\n",
    "    # load data from json file\n",
    "    #working_dir = os.path.dirname(os.path.realpath(__file__)) + '/'\n",
    "    with open(file_name, \"r\") as f:\n",
    "        found_jobs = f.read()\n",
    "    data = json.loads(found_jobs)\n",
    "\n",
    "    # normalize because of nested client data\n",
    "    df = pd.io.json.json_normalize(data)\n",
    "    df.columns = [c.replace('.', '_') for c in df.columns] # so we can access a column with \"data_frame.client_reviews_count\"\n",
    "    return df"
   ]
  },
  {
   "cell_type": "code",
   "execution_count": 158,
   "metadata": {},
   "outputs": [
    {
     "name": "stdout",
     "output_type": "stream",
     "text": [
      "##############################\n",
      "    Before changing data    \n",
      "##############################\n",
      "\n",
      "## Shape: ##\n",
      "(4779, 19)\n",
      "\n",
      "## Missing Values per Column: ##\n",
      "budget                                 588\n",
      "category2                                0\n",
      "client_country                           0\n",
      "client_feedback                          0\n",
      "client_jobs_posted                       0\n",
      "client_past_hires                        0\n",
      "client_payment_verification_status    3106\n",
      "client_reviews_count                     0\n",
      "date_created                             0\n",
      "duration                              2730\n",
      "id                                       0\n",
      "job_status                               0\n",
      "job_type                                 0\n",
      "skills                                   0\n",
      "snippet                                  0\n",
      "subcategory2                             0\n",
      "title                                    0\n",
      "url                                      0\n",
      "workload                               997\n",
      "dtype: int64\n",
      "############################## \n",
      "\n",
      "\n"
     ]
    }
   ],
   "source": [
    "data_frame = createDF(\"found_jobs_4K.json\")\n",
    "\n",
    "printDF(\"Before changing data\", data_frame)"
   ]
  },
  {
   "cell_type": "markdown",
   "metadata": {},
   "source": [
    "## Remove attributes which have as many values as there are examples\n",
    "\n",
    "![Useless attributes](images/useless_attributes.jpg)\n",
    "\n",
    "Removing the `id` attribute could however be problematic, since there it could be useful later, when trying to find similar jobs"
   ]
  },
  {
   "cell_type": "code",
   "execution_count": 159,
   "metadata": {},
   "outputs": [],
   "source": [
    "unnecessary_columns = [\"id\", \"category2\", \"job_status\", \"url\"]\n",
    "data_frame.drop(labels=unnecessary_columns, axis=1, inplace=True)"
   ]
  },
  {
   "cell_type": "markdown",
   "metadata": {},
   "source": [
    "## Remove attributes which don't add much value but which have too many missing values"
   ]
  },
  {
   "cell_type": "code",
   "execution_count": 160,
   "metadata": {
    "collapsed": true
   },
   "outputs": [],
   "source": [
    "bad_columns = [\"client_payment_verification_status\"]\n",
    "data_frame.drop(labels=bad_columns, axis=1, inplace=True)"
   ]
  },
  {
   "cell_type": "markdown",
   "metadata": {},
   "source": [
    "## Remove examples which contribute missing values to attributes with < 30 missing attributes"
   ]
  },
  {
   "cell_type": "code",
   "execution_count": 161,
   "metadata": {},
   "outputs": [],
   "source": [
    "max_few_missing = 30\n",
    "columns_few_missing = list(data_frame.columns[data_frame.isnull().sum() < max_few_missing])\n",
    "data_frame = data_frame.dropna(subset=columns_few_missing, how='any')"
   ]
  },
  {
   "cell_type": "markdown",
   "metadata": {},
   "source": [
    "## Set feedback to None on examples where the client has not yet received a review"
   ]
  },
  {
   "cell_type": "code",
   "execution_count": 162,
   "metadata": {
    "collapsed": true
   },
   "outputs": [],
   "source": [
    "data_frame.loc[data_frame.client_reviews_count == 0, 'client_feedback'] = None"
   ]
  },
  {
   "cell_type": "markdown",
   "metadata": {},
   "source": [
    "## Set budget to None if it is 0 (jobs without a budget cannot exist)"
   ]
  },
  {
   "cell_type": "code",
   "execution_count": 163,
   "metadata": {
    "collapsed": true
   },
   "outputs": [],
   "source": [
    "data_frame.loc[data_frame.budget == 0, 'budget'] = None"
   ]
  },
  {
   "cell_type": "markdown",
   "metadata": {},
   "source": [
    "## Problems with `duration` and `workload`\n",
    "\n",
    "Both attributes `duration` and `workload` have too many missing values, which makes filling the missings near impossible. As soon as we drop all examples where budget is missing, we get the following statistics for budget, duration and workload:\n",
    "\n",
    "![Statistics for budget, duration and workload](images/budget_duration_workload.jpg)\n",
    "\n",
    "After removing examples, where workload is missing, we get the following statistics:\n",
    "\n",
    "![Statistics without missing values for workload](images/no_missing_workloads.jpg)\n",
    "\n",
    "The problem here is, that even though no examples with workload missing are present, the workload for all examples is \"30 hrs/ week\".\n",
    "\n",
    "If we drop examples, where duration is missing instead of workload, the resulting dataset contains no examples.\n",
    "\n",
    "This leads to the conclusion, that both `duration` and `workload` should be dropped entirely."
   ]
  },
  {
   "cell_type": "code",
   "execution_count": 164,
   "metadata": {},
   "outputs": [
    {
     "name": "stdout",
     "output_type": "stream",
     "text": [
      "##############################\n",
      "    Before dropping workload and duration    \n",
      "##############################\n",
      "\n",
      "## Shape: ##\n",
      "(4779, 14)\n",
      "\n",
      "## Missing Values per Column: ##\n",
      "budget                  2049\n",
      "client_country             0\n",
      "client_feedback          133\n",
      "client_jobs_posted         0\n",
      "client_past_hires          0\n",
      "client_reviews_count       0\n",
      "date_created               0\n",
      "duration                2730\n",
      "job_type                   0\n",
      "skills                     0\n",
      "snippet                    0\n",
      "subcategory2               0\n",
      "title                      0\n",
      "workload                 997\n",
      "dtype: int64\n",
      "############################## \n",
      "\n",
      "\n"
     ]
    }
   ],
   "source": [
    "printDF(\"Before dropping workload and duration\", data_frame)"
   ]
  },
  {
   "cell_type": "code",
   "execution_count": 165,
   "metadata": {},
   "outputs": [],
   "source": [
    "data_frame = data_frame.dropna(subset=['budget'], how='all')\n",
    "data_frame = data_frame.dropna(subset=['client_feedback'], how='all')\n",
    "data_frame.drop(labels=['duration', 'workload'], axis=1, inplace=True)"
   ]
  },
  {
   "cell_type": "markdown",
   "metadata": {},
   "source": [
    "## Convert nominal attributes to numerical\n",
    "\n",
    "This is done to make them available to all regression models - especially models that would not accept nominal attributes. Since the LabelEncoder cannot handle missing values and would therefore just assign an additional numerical value to missing values, we store the missing values for `duration` and `workload`, apply the LabelEncoder and afterwards set the values which should be missing to None again.\n",
    "\n",
    "The following attributes seem interesting for this conversion:\n",
    "![Nominal attributes to be converted](images/nominal_to_numeric.jpg)"
   ]
  },
  {
   "cell_type": "code",
   "execution_count": 166,
   "metadata": {
    "collapsed": true
   },
   "outputs": [],
   "source": [
    "clientCountryEncoder = LabelEncoder()\n",
    "data_frame['client_country'] = clientCountryEncoder.fit_transform(data_frame['client_country'].astype('str'))\n",
    "jobTypeEncoder = LabelEncoder()\n",
    "data_frame['job_type'] = jobTypeEncoder.fit_transform(data_frame['job_type'].astype('str'))\n",
    "subcategory2Encoder = LabelEncoder()\n",
    "data_frame['subcategory2'] = subcategory2Encoder.fit_transform(data_frame['subcategory2'].astype('str'))"
   ]
  },
  {
   "cell_type": "markdown",
   "metadata": {},
   "source": [
    "## Convert the `date_created` attribute into a delta between the date created and the time now and rename it to `posting_age`"
   ]
  },
  {
   "cell_type": "code",
   "execution_count": 167,
   "metadata": {},
   "outputs": [],
   "source": [
    "data_frame['date_created'] = pd.to_numeric(pd.to_timedelta(pd.to_datetime(\n",
    "    data_frame['date_created'])).dt.days)\n",
    "data_frame.rename(columns={'date_created': 'timestamp'}, inplace=True)"
   ]
  },
  {
   "cell_type": "code",
   "execution_count": 168,
   "metadata": {},
   "outputs": [
    {
     "name": "stdout",
     "output_type": "stream",
     "text": [
      "17295\n",
      "17292\n",
      "17290\n",
      "17290\n",
      "17290\n"
     ]
    }
   ],
   "source": [
    "for i, row in data_frame.head(5).iterrows():\n",
    "    print row['timestamp']"
   ]
  },
  {
   "cell_type": "code",
   "execution_count": 169,
   "metadata": {},
   "outputs": [
    {
     "name": "stdout",
     "output_type": "stream",
     "text": [
      "##############################\n",
      "    After changing data    \n",
      "##############################\n",
      "\n",
      "## Shape: ##\n",
      "(2642, 12)\n",
      "\n",
      "## Missing Values per Column: ##\n",
      "budget                  0\n",
      "client_country          0\n",
      "client_feedback         0\n",
      "client_jobs_posted      0\n",
      "client_past_hires       0\n",
      "client_reviews_count    0\n",
      "timestamp               0\n",
      "job_type                0\n",
      "skills                  0\n",
      "snippet                 0\n",
      "subcategory2            0\n",
      "title                   0\n",
      "dtype: int64\n",
      "############################## \n",
      "\n",
      "\n"
     ]
    }
   ],
   "source": [
    "printDF(\"After changing data\", data_frame)"
   ]
  },
  {
   "cell_type": "code",
   "execution_count": 145,
   "metadata": {},
   "outputs": [
    {
     "data": {
      "text/plain": [
       "True"
      ]
     },
     "execution_count": 145,
     "metadata": {},
     "output_type": "execute_result"
    }
   ],
   "source": [
    "pandas2arff(data_frame, \"jobs.arff\", wekaname = \"jobs\", cleanstringdata=True, cleannan=True)"
   ]
  }
 ],
 "metadata": {
  "kernelspec": {
   "display_name": "Python 2",
   "language": "python",
   "name": "python2"
  },
  "language_info": {
   "codemirror_mode": {
    "name": "ipython",
    "version": 2
   },
   "file_extension": ".py",
   "mimetype": "text/x-python",
   "name": "python",
   "nbconvert_exporter": "python",
   "pygments_lexer": "ipython2",
   "version": "2.7.13"
  }
 },
 "nbformat": 4,
 "nbformat_minor": 2
}
